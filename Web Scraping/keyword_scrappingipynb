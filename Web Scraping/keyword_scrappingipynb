{
  "cells": [
    {
      "cell_type": "markdown",
      "metadata": {
        "id": "DeougDfwb42-"
      },
      "source": [
        "# Web Scraping Popular Movies using BeautifulSoup\n",
        "\n",
        "*A web scraping tutorial in Python for beginners.*\n",
        "![](https://imgur.com/JAYEfY3.png)"
      ]
    },
    {
      "cell_type": "markdown",
      "metadata": {
        "id": "3ZfFoJR0b42_"
      },
      "source": [
        "The **Project Idea** is to curate a list of popular movies that I can watch using Web Scraping. Check out the TMdb website here: https://www.themoviedb.org/movie\n",
        "\n",
        "**Web Scraping** is the process of gathering useful information from the web and making meaningful insights from it. In a way, web scarping is automating the process of data collection.\n",
        "\n",
        "*Note:* Web Scraping code depends on the structure of the web page. So, if the structure changes then your code needs update too!\n",
        "\n",
        "\n",
        "**Python** offers a variety of libraries to scrape the web such as BeautifulSoup, Requests, Scrapy, Selenium. If you are starting with web scraping, then Beautiful Soup will be the easy option.\n",
        "\n",
        "We’ll be using the packages:\n",
        "* **Requests** — for downloading the HTML code from the TMdb URL\n",
        "* **BeautifulSoup4** — for extracting data from the HTML string\n",
        "* **Pandas** — to gather my data into a dataframe for further processing\n",
        "\n"
      ]
    },
    {
      "cell_type": "markdown",
      "metadata": {
        "id": "K2dZ9o0Vb42_"
      },
      "source": [
        "Let's see an outline of the steps we'll follow:\n",
        "1. Load the TMdb movie web page https://www.themoviedb.org/movie using `Requests`.\n",
        "2. Parse the HTML web page using BeautifulSoup.\n",
        "3. Extract the list of movies from the landing page. For each page, we'll get the movie name, user rating and the movie page URL.\n",
        "3. Again for each movie, we'll grab the release dates, genres, duration and directors.\n",
        "4. Compile extracted movie details into Python Lists and Dictionaries.\n",
        "4. We'll extend the above logic to scrape multiple pages.\n",
        "5. Finally, we'll save all the movie informations into a csv file.\n",
        "\n",
        "```\n",
        "The csv file will be of the following format.\n",
        "Name,rating,genre,release_date,runtime\tdirector,url\n",
        "Mortal Kombat,80,\"Fantasy,Action, Adventure, Science Fiction, Thriller\",04/23/2021,1h 50m,Lewis Tan,\thttps://www.themoviedb.org/movie/460465\n",
        "Godzilla vs. Kong,82.0,\"Science Fiction, Action\",\t03/31/2021,1h 53m,Alexander Skarsgård,\thttps://www.themoviedb.org/movie/399566\n",
        "Nobody,85.0,\"Action, Thriller, Crime\",03/26/2021,1h 32m,Bob Odenkirk,https://www.themoviedb.org/movie/615457\n",
        "Zack Snyder's Justice League,85.0,\"Action, Adventure, Fantasy, Science Fiction\",03/18/2021,4h 2m,Ben Affleck,https://www.themoviedb.org/movie/791373\n",
        "```"
      ]
    },
    {
      "cell_type": "markdown",
      "metadata": {
        "id": "6jvlm9WUb42_"
      },
      "source": [
        "### How to Run the code\n",
        "\n",
        "You can execute the code by clicking the \"Run\" button or by selecting the \"Run on Binder\" option."
      ]
    },
    {
      "cell_type": "markdown",
      "metadata": {
        "id": "iOOido-Eb42_"
      },
      "source": [
        "### Installing the Libraries\n",
        "Let’s start by installing the required packages."
      ]
    },
    {
      "cell_type": "code",
      "execution_count": null,
      "metadata": {
        "id": "6jrJ4J1ib42_"
      },
      "outputs": [],
      "source": [
        "# Install pandas\n",
        "!pip install pandas as pd --quiet\n",
        "\n",
        "# Install the bs4 module from BeautifulSoup\n",
        "!pip install beautifulsoup4 --upgrade --quiet"
      ]
    },
    {
      "cell_type": "markdown",
      "metadata": {
        "id": "9Xn0ICtsb43A"
      },
      "source": [
        "Let's import the necessary packages"
      ]
    },
    {
      "cell_type": "code",
      "execution_count": null,
      "metadata": {
        "id": "6IVHxFYVb43A"
      },
      "outputs": [],
      "source": [
        "# Let's import necessary packages\n",
        "import requests\n",
        "import pandas as pd\n",
        "from bs4 import BeautifulSoup"
      ]
    },
    {
      "cell_type": "markdown",
      "metadata": {
        "id": "RddebfIHb43A"
      },
      "source": [
        "### Load the Webpage using Requests\n",
        "\n",
        "The landing page of TMdb movies page consists of a list of popular movies. We can click on each of the movie items and navigate to the individual movie page to get more details on each movie.\n",
        "\n",
        "Each page contains 20 movies. From the landing page, we will parse the list of movies, user ratings, and movie URLs. Then, we can navigate to the next pages using the ‘Load More’ button click."
      ]
    },
    {
      "cell_type": "code",
      "execution_count": null,
      "metadata": {
        "id": "Hpl7jgeJb43A"
      },
      "outputs": [],
      "source": [
        "# TMdb movie URL\n",
        "tmdb_movies_url = 'https://www.themoviedb.org/movie'"
      ]
    },
    {
      "cell_type": "code",
      "execution_count": null,
      "metadata": {
        "id": "XC3tgxexb43A"
      },
      "outputs": [],
      "source": [
        "# The movie page is downloaded using 'requests`\n",
        "response = requests.get(tmdb_movies_url)"
      ]
    },
    {
      "cell_type": "code",
      "execution_count": null,
      "metadata": {
        "id": "5LHJExXdb43A",
        "outputId": "8d62f2c8-83dd-4aab-8b65-44679edecfec"
      },
      "outputs": [
        {
          "data": {
            "text/plain": [
              "200"
            ]
          },
          "execution_count": 5,
          "metadata": {},
          "output_type": "execute_result"
        }
      ],
      "source": [
        "# Check if the request was successful\n",
        "response.status_code"
      ]
    },
    {
      "cell_type": "markdown",
      "metadata": {
        "id": "JtWkDoWmb43A"
      },
      "source": [
        "The above code validates if the requests was successful using the `.status_code = 200`.\n"
      ]
    },
    {
      "cell_type": "code",
      "execution_count": null,
      "metadata": {
        "scrolled": false,
        "id": "k2XLABqab43A",
        "outputId": "b2c8799e-e00b-4fac-9185-75f3b1b22326"
      },
      "outputs": [
        {
          "data": {
            "text/plain": [
              "'<!DOCTYPE html>\\n<html lang=\"en\" class=\"no-js\">\\n  <head>\\n    <title>Popular Movies &#8212; The Movie Database (TMDb)</title>\\n    <meta http-equiv=\"X-UA-Compatible\" content=\"IE=edge\" />\\n    <meta http-equiv=\"cleartype\" content=\"on\">\\n    <meta charset=\"utf-8\">\\n    \\n    <meta name=\"keywords\" content=\"Movies, TV Shows, Streaming, Reviews, API, Actors, Actresses, Photos, User Ratings, Synopsis, Trailers, Teasers, Credits, Cast\">\\n    <meta name=\"mobile-web-app-capable\" content=\"yes\">\\n    <meta name=\"ap'"
            ]
          },
          "execution_count": 6,
          "metadata": {},
          "output_type": "execute_result"
        }
      ],
      "source": [
        "page_contents = response.text\n",
        "page_contents[:500]"
      ]
    },
    {
      "cell_type": "markdown",
      "metadata": {
        "id": "eoruZ7pNb43A"
      },
      "source": [
        "Above shows first few snippet of the HTML code of the TMdb web page.\n",
        "\n",
        "Let's now write the `page-contents` into a file."
      ]
    },
    {
      "cell_type": "code",
      "execution_count": null,
      "metadata": {
        "id": "569iZ6pjb43A"
      },
      "outputs": [],
      "source": [
        "with open ('tmdb_movie.html', 'w') as f:\n",
        "    f.write(page_contents)"
      ]
    },
    {
      "cell_type": "code",
      "execution_count": null,
      "metadata": {
        "id": "6TxRfx7Wb43A"
      },
      "outputs": [],
      "source": [
        "doc = BeautifulSoup(page_contents, 'html.parser')"
      ]
    },
    {
      "cell_type": "markdown",
      "metadata": {
        "id": "ZRw58NL-b43A"
      },
      "source": [
        "The HTML page content is extracted using BeautifulSoup into `doc`."
      ]
    },
    {
      "cell_type": "markdown",
      "metadata": {
        "id": "J2j4MELrb43A"
      },
      "source": [
        "Let us create a function to perform the above."
      ]
    },
    {
      "cell_type": "code",
      "execution_count": null,
      "metadata": {
        "id": "CuRcPggCb43A"
      },
      "outputs": [],
      "source": [
        "def get_movies_page():\n",
        "    \"\"\"\n",
        "    Function to download a web page using `requests` and check the status code to validate\n",
        "    if the call was successful.\n",
        "    \"\"\"\n",
        "    movies_url = 'https://www.themoviedb.org/movie'\n",
        "    # Access the webpage using `requests`\n",
        "    response = requests.get(movies_url)\n",
        "    # Check if the request was successful\n",
        "    if response.status_code != 200:\n",
        "        raise Exception('Failed to load page {}'.format(movies_url))\n",
        "    # Parse the `response' text using BeautifulSoup\n",
        "    movies_doc = BeautifulSoup(response.text, 'html.parser')\n",
        "    return movies_doc"
      ]
    },
    {
      "cell_type": "markdown",
      "metadata": {
        "id": "Vy9-nyhub43A"
      },
      "source": [
        "### Inspect the Web page\n",
        "\n",
        "Chrome users can use the “Inspect” option by right-clicking on the page to examine the HTML code behind the page. A menu will appear, either on the bottom or right side of the page (based on the settings), with a long list of nested HTML tags. To find the correct tag associated with the information needed, select the details (ex. movie name) and click “Inspect” again and that will highlight a blue box. Now, you can click on the HTML tags and get the correct tag associated with the item of interest, here, movie name.\n",
        "\n",
        "As we see in the image below, the movie names are embedded in the `h2` tags.\n",
        "\n",
        "![](https://imgur.com/XzQ6OYC.png)"
      ]
    },
    {
      "cell_type": "markdown",
      "metadata": {
        "id": "jiJ4PcdMb43A"
      },
      "source": [
        "We can use the `h2.a.text.strip()` to retrieve the name of the movie. Note, that we need to exclude the first four lines, as those do not contain the movie names."
      ]
    },
    {
      "cell_type": "code",
      "execution_count": null,
      "metadata": {
        "id": "VVrbz-6mb43A",
        "outputId": "49ddd900-92b1-4dd2-e819-cb832c09f19f"
      },
      "outputs": [
        {
          "name": "stdout",
          "output_type": "stream",
          "text": [
            "['Mortal Kombat', 'Godzilla vs. Kong', 'Nobody', \"Zack Snyder's Justice League\", 'The Unholy', 'Thunder Force', 'The Marksman', 'Chaos Walking', 'Raya and the Last Dragon', 'Demon Slayer the Movie: Mugen Train', 'New Gods: Nezha Reborn', \"Mortal Kombat Legends: Scorpion's Revenge\", 'Monster Hunter', 'Vanquish', 'Wonder Woman 1984', 'Tom & Jerry', 'Sentinelle', 'Space Sweepers', 'Rise of the Mummy', 'Cherry']\n"
          ]
        }
      ],
      "source": [
        "movies_names_tags = doc.find_all('h2')[4:]  #Exclude the first 4 lines\n",
        "names = []\n",
        "for h2 in movies_names_tags:\n",
        "    names.append(h2.a.text.strip())\n",
        "print(names)"
      ]
    },
    {
      "cell_type": "markdown",
      "metadata": {
        "id": "-TBObQJYb43B"
      },
      "source": [
        "Similarly, we can extarct the movie links."
      ]
    },
    {
      "cell_type": "code",
      "execution_count": null,
      "metadata": {
        "id": "U5sqcoAHb43B",
        "outputId": "63bf61f4-d6d1-45ca-9426-732034d79f9d"
      },
      "outputs": [
        {
          "name": "stdout",
          "output_type": "stream",
          "text": [
            "['/movie/460465', '/movie/399566', '/movie/615457', '/movie/791373', '/movie/632357', '/movie/615678', '/movie/634528', '/movie/412656', '/movie/527774', '/movie/635302', '/movie/663558', '/movie/664767', '/movie/458576', '/movie/804435', '/movie/464052', '/movie/587807', '/movie/793723', '/movie/581389', '/movie/791910', '/movie/544401']\n"
          ]
        }
      ],
      "source": [
        "links = []\n",
        "for h2 in movies_names_tags:\n",
        "    links.append(h2.a['href'])\n",
        "print(links)"
      ]
    },
    {
      "cell_type": "markdown",
      "metadata": {
        "id": "ybPQRsyhb43B"
      },
      "source": [
        "Let's create functions to extract the movies names and movie URLs."
      ]
    },
    {
      "cell_type": "code",
      "execution_count": null,
      "metadata": {
        "id": "3cM9vBmGb43B"
      },
      "outputs": [],
      "source": [
        "def get_movies_names(doc):\n",
        "    \"\"\"\n",
        "    Function to extract the movie names from HTML source code using BeautifulSoup.\n",
        "    \"\"\"\n",
        "    movies_names_tags = doc.find_all('h2')[4:]  #Exclude the first 4 lines\n",
        "    movies_names = []\n",
        "    # Loop through the page get all the movie names from the page\n",
        "    for h2 in movies_names_tags:\n",
        "        movies_names.append(h2.a.text.strip())\n",
        "    return movies_names"
      ]
    },
    {
      "cell_type": "markdown",
      "metadata": {
        "id": "4WFms2E0b43B"
      },
      "source": [
        "`get_movies_names` can be used to get the list of popular movie names."
      ]
    },
    {
      "cell_type": "code",
      "execution_count": null,
      "metadata": {
        "id": "SMGCYaa7b43B",
        "outputId": "b5804efe-d3d2-42b6-8102-fd3d0f17649f"
      },
      "outputs": [
        {
          "data": {
            "text/plain": [
              "['Mortal Kombat',\n",
              " 'Godzilla vs. Kong',\n",
              " 'Nobody',\n",
              " \"Zack Snyder's Justice League\",\n",
              " 'The Unholy',\n",
              " 'Thunder Force',\n",
              " 'The Marksman',\n",
              " 'Chaos Walking',\n",
              " 'Raya and the Last Dragon',\n",
              " 'Demon Slayer the Movie: Mugen Train',\n",
              " 'New Gods: Nezha Reborn',\n",
              " \"Mortal Kombat Legends: Scorpion's Revenge\",\n",
              " 'Monster Hunter',\n",
              " 'Vanquish',\n",
              " 'Wonder Woman 1984',\n",
              " 'Tom & Jerry',\n",
              " 'Sentinelle',\n",
              " 'Space Sweepers',\n",
              " 'Rise of the Mummy',\n",
              " 'Cherry']"
            ]
          },
          "execution_count": 13,
          "metadata": {},
          "output_type": "execute_result"
        }
      ],
      "source": [
        "# Get the popular movie list from the webpage using the BeautifulSoup object `doc`.\n",
        "get_movies_names(doc)"
      ]
    },
    {
      "cell_type": "markdown",
      "metadata": {
        "id": "Ds-x9TNUb43B"
      },
      "source": [
        "The above shows the list of movies in the landing page of the TMdb movie web page.\n",
        "\n",
        "Similarly,  let's define functions for movie user ratings and URLs.\n",
        "\n",
        "The user ratings are embedded as part of the `div` tag under the `user_score_chart` class in the webpage as below.\n",
        "\n",
        "![](https://imgur.com/WqCIgES.png)"
      ]
    },
    {
      "cell_type": "code",
      "execution_count": null,
      "metadata": {
        "id": "wZ--RKCnb43B"
      },
      "outputs": [],
      "source": [
        "def get_movies_rating(doc):\n",
        "    \"\"\"\n",
        "    Function to extract the movie user rating from HTML source code using the BeautifulSoup.\n",
        "    \"\"\"\n",
        "    desc_selector = 'user_score_chart'\n",
        "    movies_rating_tags = doc.find_all('div', {'class': desc_selector})\n",
        "    movies_rating = []\n",
        "    # Loop through the webpage to get the ratings of all the movies in the page\n",
        "    for tag in movies_rating_tags:\n",
        "        movies_rating.append(tag.attrs['data-percent'])\n",
        "    return movies_rating"
      ]
    },
    {
      "cell_type": "code",
      "execution_count": null,
      "metadata": {
        "id": "xji-ynr7b43B",
        "outputId": "1869ae63-3644-4f8e-af88-ad65f8cf9bcc"
      },
      "outputs": [
        {
          "data": {
            "text/plain": [
              "['79.0',\n",
              " '82.0',\n",
              " '85.0',\n",
              " '85.0',\n",
              " '57.0',\n",
              " '58.0',\n",
              " '73.0',\n",
              " '73.0',\n",
              " '83.0',\n",
              " '82.0',\n",
              " '88.0',\n",
              " '84.0',\n",
              " '71.0',\n",
              " '61.0',\n",
              " '68.0',\n",
              " '73.0',\n",
              " '60',\n",
              " '72.0',\n",
              " '50',\n",
              " '76.0']"
            ]
          },
          "execution_count": 15,
          "metadata": {},
          "output_type": "execute_result"
        }
      ],
      "source": [
        "# Get the ratings of each movies in the webpage using the BeautifulSoup object `doc`.\n",
        "get_movies_rating(doc)"
      ]
    },
    {
      "cell_type": "markdown",
      "metadata": {
        "id": "oPuwwquGb43B"
      },
      "source": [
        "The above shows the user ratings for movies in the landing page of the TMdb movie web page.\n",
        "\n",
        "Each movie URL can be retrieved by appending the base URL of https://www.themoviedb.org to .a['href'].\n",
        "\n",
        "![](https://imgur.com/8D8DYAq.png)"
      ]
    },
    {
      "cell_type": "code",
      "execution_count": null,
      "metadata": {
        "id": "1mxBwMU9b43B"
      },
      "outputs": [],
      "source": [
        "def get_movies_urls(doc):\n",
        "    \"\"\"\n",
        "    Function to extract the movie links from HTML source code using BeautifulSoup.\n",
        "    \"\"\"\n",
        "    movies_urls = []\n",
        "    base_url = 'https://www.themoviedb.org'\n",
        "    movies_names_tags = doc.find_all('h2')[4:]  #Exclude the first 4 lines\n",
        "    # Loop through the webpage to get the URL of each movie\n",
        "    for tag in movies_names_tags:\n",
        "        movies_urls.append(base_url + tag.a['href'])\n",
        "    return movies_urls"
      ]
    },
    {
      "cell_type": "code",
      "execution_count": null,
      "metadata": {
        "id": "qqe7atyyb43B",
        "outputId": "a015897a-07ec-4e4a-e1f1-13e4cd3bfdab"
      },
      "outputs": [
        {
          "data": {
            "text/plain": [
              "['https://www.themoviedb.org/movie/460465',\n",
              " 'https://www.themoviedb.org/movie/399566',\n",
              " 'https://www.themoviedb.org/movie/615457',\n",
              " 'https://www.themoviedb.org/movie/791373',\n",
              " 'https://www.themoviedb.org/movie/632357',\n",
              " 'https://www.themoviedb.org/movie/615678',\n",
              " 'https://www.themoviedb.org/movie/634528',\n",
              " 'https://www.themoviedb.org/movie/412656',\n",
              " 'https://www.themoviedb.org/movie/527774',\n",
              " 'https://www.themoviedb.org/movie/635302',\n",
              " 'https://www.themoviedb.org/movie/663558',\n",
              " 'https://www.themoviedb.org/movie/664767',\n",
              " 'https://www.themoviedb.org/movie/458576',\n",
              " 'https://www.themoviedb.org/movie/804435',\n",
              " 'https://www.themoviedb.org/movie/464052',\n",
              " 'https://www.themoviedb.org/movie/587807',\n",
              " 'https://www.themoviedb.org/movie/793723',\n",
              " 'https://www.themoviedb.org/movie/581389',\n",
              " 'https://www.themoviedb.org/movie/791910',\n",
              " 'https://www.themoviedb.org/movie/544401']"
            ]
          },
          "execution_count": 17,
          "metadata": {},
          "output_type": "execute_result"
        }
      ],
      "source": [
        "# Get the URLS of each movies in the webpage using the BeautifulSoup object `doc`.\n",
        "get_movies_urls(doc)"
      ]
    },
    {
      "cell_type": "markdown",
      "metadata": {
        "id": "heuZIzQtb43B"
      },
      "source": [
        "By now we have movie names, user rating, and the movie URLs for the first page.\n",
        "\n",
        "Let’s first consider a sample movie web page: Godzilla vs. Kong and see how we parse HTML tags to get additional information like release date, genre, runtime, and director of each of the movies.\n",
        "\n",
        "![](https://imgur.com/N1wxPw8.png)"
      ]
    },
    {
      "cell_type": "markdown",
      "metadata": {
        "id": "eBM0UbD8b43B"
      },
      "source": [
        "To read additional movie information, let's create a function that can accept a movie url."
      ]
    },
    {
      "cell_type": "code",
      "execution_count": null,
      "metadata": {
        "id": "MxKoXmC_b43B"
      },
      "outputs": [],
      "source": [
        "# Let's read a movie page\n",
        "def get_movies_page(movies_url):\n",
        "    \"\"\"\n",
        "    Function to read the HTML source code using BeautifulSoup.\n",
        "    \"\"\"\n",
        "    # Download the page\n",
        "    response = requests.get(movies_url)\n",
        "    # Check successful response\n",
        "    if response.status_code != 200:\n",
        "        raise Exception('Failed to load page {}'.format(movies_url))\n",
        "    # Parse using Beautiful soup\n",
        "    movies_doc = BeautifulSoup(response.text, 'html.parser')\n",
        "    return movies_doc"
      ]
    },
    {
      "cell_type": "code",
      "execution_count": null,
      "metadata": {
        "id": "5dI_COAFb43B"
      },
      "outputs": [],
      "source": [
        "doc1 = get_movies_page('https://www.themoviedb.org/movie/399566')"
      ]
    },
    {
      "cell_type": "markdown",
      "metadata": {
        "id": "0_BDeKi3b43E"
      },
      "source": [
        "We have the HTML source code in the\n",
        "BeautifulSoup object `doc1`."
      ]
    },
    {
      "cell_type": "code",
      "execution_count": null,
      "metadata": {
        "id": "zaOSRalkb43E",
        "outputId": "8ef08e51-761b-4c6b-f79d-6028171f50c5"
      },
      "outputs": [
        {
          "name": "stdout",
          "output_type": "stream",
          "text": [
            "03/31/2021 ['Science', 'Fiction,', 'Action'] ['1h', '53m']\n"
          ]
        }
      ],
      "source": [
        "# Find the `div` tag under `facts` class to get the release date, genre and runtime\n",
        "div_tags = doc1.find('div', class_ = 'facts')\n",
        "\n",
        "release_date = div_tags.text.split()[1]\n",
        "genre = div_tags.text.split()[3:-2]\n",
        "runtime = div_tags.text.split()[-2:]\n",
        "\n",
        "# Print and validate the result is correct\n",
        "print(release_date, genre, runtime)"
      ]
    },
    {
      "cell_type": "code",
      "execution_count": null,
      "metadata": {
        "id": "GXbRXqTgb43E",
        "outputId": "2cc2f031-ed19-4f78-99ea-c0aeffbd3d8f"
      },
      "outputs": [
        {
          "name": "stdout",
          "output_type": "stream",
          "text": [
            "Alexander Skarsgård\n"
          ]
        }
      ],
      "source": [
        "# Find the `div` tag under `scroller_wrap should_fade is_fading` class to get the director\n",
        "d_tags = doc1.find_all('div', {'class':'scroller_wrap should_fade is_fading'})\n",
        "\n",
        "# Print and validate the result\n",
        "print (d_tags[0].text.strip().partition(\"\\n\")[0])"
      ]
    },
    {
      "cell_type": "markdown",
      "metadata": {
        "id": "PNmyl66Tb43E"
      },
      "source": [
        "The `div` tag under class `facts` contains the release date, genre and runtime details."
      ]
    },
    {
      "cell_type": "code",
      "execution_count": null,
      "metadata": {
        "id": "Y_hvrpvKb43E"
      },
      "outputs": [],
      "source": [
        "def get_movies_info(doc):\n",
        "    \"\"\"\n",
        "    Function to get the movie informations -\n",
        "    release date, genre, runtime and director.\n",
        "    \"\"\"\n",
        "    div1_tags = doc.find('div', class_ = 'facts')\n",
        "    release_date = div1_tags.text.split()[1]\n",
        "    genre = div1_tags.text.split()[3:-2]\n",
        "    runtime = div1_tags.text.split()[-2:]\n",
        "\n",
        "    div2_tags = doc.find_all('div', {'class':'scroller_wrap should_fade is_fading'})\n",
        "    director = div2_tags[0].text.strip().partition(\"\\n\")[0]\n",
        "\n",
        "    return release_date, genre, runtime, director"
      ]
    },
    {
      "cell_type": "code",
      "execution_count": null,
      "metadata": {
        "scrolled": true,
        "id": "Z5IxbWiZb43E",
        "outputId": "4aff15c1-d927-479c-f2e5-4cefabc039b4"
      },
      "outputs": [
        {
          "data": {
            "text/plain": [
              "('03/31/2021',\n",
              " ['Science', 'Fiction,', 'Action'],\n",
              " ['1h', '53m'],\n",
              " 'Alexander Skarsgård')"
            ]
          },
          "execution_count": 23,
          "metadata": {},
          "output_type": "execute_result"
        }
      ],
      "source": [
        "# Call the `get_movies_info` for movie `Godzilla vs. Kong`.\n",
        "get_movies_info(doc1)"
      ]
    },
    {
      "cell_type": "code",
      "execution_count": null,
      "metadata": {
        "id": "V6mdjjwpb43E"
      },
      "outputs": [],
      "source": [
        "# Get the page for the movie `Raya and the Last Dragon`.\n",
        "doc2 = get_movies_page('https://www.themoviedb.org/movie/527774')"
      ]
    },
    {
      "cell_type": "code",
      "execution_count": null,
      "metadata": {
        "id": "ckxDmUSab43F",
        "outputId": "1ef66a48-05e7-4100-8ec2-74cb6b6151cf"
      },
      "outputs": [
        {
          "name": "stdout",
          "output_type": "stream",
          "text": [
            "03/05/2021 ['Animation,', 'Adventure,', 'Fantasy,', 'Family,', 'Action'] ['1h', '47m']\n"
          ]
        }
      ],
      "source": [
        "# Find the `div` tag under `facts` class to get the release date, genre and runtime\n",
        "div_tags = doc2.find('div', class_ = 'facts')\n",
        "\n",
        "release_date = div_tags.text.split()[1]\n",
        "genre = div_tags.text.split()[3:-2]\n",
        "runtime = div_tags.text.split()[-2:]\n",
        "\n",
        "# Print and validate the result is correct\n",
        "print(release_date, genre, runtime)"
      ]
    },
    {
      "cell_type": "code",
      "execution_count": null,
      "metadata": {
        "id": "IjMAdShnb43F",
        "outputId": "07f51939-39a2-414f-b050-8f56d17d3a37"
      },
      "outputs": [
        {
          "data": {
            "text/plain": [
              "('03/05/2021',\n",
              " ['Animation,', 'Adventure,', 'Fantasy,', 'Family,', 'Action'],\n",
              " ['1h', '47m'],\n",
              " 'Kelly Marie Tran')"
            ]
          },
          "execution_count": 26,
          "metadata": {},
          "output_type": "execute_result"
        }
      ],
      "source": [
        "# Call the `get_movies_info` for movie `Below Zero`.\n",
        "get_movies_info(doc2)"
      ]
    },
    {
      "cell_type": "markdown",
      "metadata": {
        "id": "CM19TpWab43F"
      },
      "source": [
        "The above logic can be extended to get the release dates, genres, runtimes, and directors for all the URLs we have from the landing page.\n"
      ]
    },
    {
      "cell_type": "code",
      "execution_count": null,
      "metadata": {
        "id": "C2pUouPCb43F"
      },
      "outputs": [],
      "source": [
        "def get_all_movies_details(urls):\n",
        "    \"\"\"\n",
        "    Function to get lists of movie information as lists from all the pages.\n",
        "    \"\"\"\n",
        "    genres = []\n",
        "    release_dates = []\n",
        "    runtimes = []\n",
        "    directors = []\n",
        "\n",
        "    # Loop through all the urls of the the movies\n",
        "    for url in urls:\n",
        "        movie_doc = get_movies_page(url)\n",
        "        # get_movies_info returns release_date, genre, runtime, director.\n",
        "        release_date, genre, runtime, director = get_movies_info(movie_doc)\n",
        "        # Convert the genre list to string on ` `.\n",
        "        genres.append(\" \".join(genre))\n",
        "        release_dates.append(release_date)\n",
        "        runtimes.append(\" \".join(runtime))\n",
        "        directors.append(director)\n",
        "\n",
        "    return genres, release_dates, runtimes, directors"
      ]
    },
    {
      "cell_type": "markdown",
      "metadata": {
        "id": "GUvQXNJxb43F"
      },
      "source": [
        "We have all the details that we are looking to retrieve from the TMdb web page `name`, `ratings`, `genres`, `release_dates`, `runtimes`, `directors` and `urls`."
      ]
    },
    {
      "cell_type": "markdown",
      "metadata": {
        "id": "c5yglS6_b43F"
      },
      "source": [
        "### Putting all the Pieces Together\n",
        "\n",
        "We’ve got all the information in different pieces of our BeautifulSoup scraper. We need to assemble them into a single function and make it as reusable as possible.\n",
        "\n",
        "I’ve used Python `Dictionary` to store the key-value pairs of the movie information. Later, I've copied the dictionary to `pandas DataFrame` to store the tabular movie information into rows and columns."
      ]
    },
    {
      "cell_type": "code",
      "execution_count": null,
      "metadata": {
        "id": "6qTwlwRYb43F"
      },
      "outputs": [],
      "source": [
        "def scrape_movies():\n",
        "    \"\"\"\n",
        "    Function to download web page using `requests` and\n",
        "    to extract the HTML source code using BeautifulSoup.\n",
        "    \"\"\"\n",
        "    # Let's get the popular movies listing from the TMdb website\n",
        "    page_count = 1 # Initializing the movie page count to 1\n",
        "    # Define lists for all the movie attributes\n",
        "    all_names = []\n",
        "    all_ratings = []\n",
        "    all_genres = []\n",
        "    all_release_dates = []\n",
        "    all_runtimes = []\n",
        "    all_directors = []\n",
        "    all_urls = []\n",
        "\n",
        "    while page_count < 8: # Looping for 8 pages of the TMdb web page\n",
        "        movies_url = \"https://www.themoviedb.org/movie?page=%d\" %(page_count)\n",
        "        # Access the webpage using `requests`\n",
        "        response = requests.get(movies_url)\n",
        "        # Check if the request was successful\n",
        "        if response.status_code != 200:\n",
        "            raise Exception('Failed to load page {}'.format(movies_url))\n",
        "        # Parse the `response' text using BeautifulSoup\n",
        "        doc = BeautifulSoup(response.text, 'html.parser')\n",
        "\n",
        "        urls = get_movies_urls(doc)\n",
        "        genres, release_dates, runtimes, directors = get_all_movies_details(urls)\n",
        "\n",
        "        # Append each movie attribute to respective lists\n",
        "        all_names += get_movies_names(doc)\n",
        "        all_ratings += get_movies_rating(doc)\n",
        "        all_genres += genres\n",
        "        all_release_dates += release_dates\n",
        "        all_runtimes += runtimes\n",
        "        all_directors += directors\n",
        "        all_urls += urls\n",
        "        page_count += 1\n",
        "\n",
        "        # Defining a dictionary to store the movie informations\n",
        "    movies_dict = {\n",
        "        'name': all_names,\n",
        "        'rating': all_ratings,\n",
        "        'genre': all_genres,\n",
        "        'release_date': all_release_dates,\n",
        "        'runtime': all_runtimes,\n",
        "        'director': all_directors,\n",
        "        'url': all_urls\n",
        "    }\n",
        "    return pd.DataFrame(movies_dict)"
      ]
    },
    {
      "cell_type": "markdown",
      "metadata": {
        "id": "QOIQYaz0b43F"
      },
      "source": [
        "In my project, I’m scraping seven pages and since each page has 20 movies listed, my output dataset has 140 rows. It goes without saying that the more movie listing you want, the more web pages you should scrape.\n",
        "\n",
        "Let's save the movies dataframe to a `.csv` file."
      ]
    },
    {
      "cell_type": "code",
      "execution_count": null,
      "metadata": {
        "scrolled": true,
        "id": "5hKOOi5sb43F",
        "outputId": "c801a827-8a79-410f-d19e-734ed33fa429"
      },
      "outputs": [
        {
          "data": {
            "text/html": [
              "<div>\n",
              "<style scoped>\n",
              "    .dataframe tbody tr th:only-of-type {\n",
              "        vertical-align: middle;\n",
              "    }\n",
              "\n",
              "    .dataframe tbody tr th {\n",
              "        vertical-align: top;\n",
              "    }\n",
              "\n",
              "    .dataframe thead th {\n",
              "        text-align: right;\n",
              "    }\n",
              "</style>\n",
              "<table border=\"1\" class=\"dataframe\">\n",
              "  <thead>\n",
              "    <tr style=\"text-align: right;\">\n",
              "      <th></th>\n",
              "      <th>name</th>\n",
              "      <th>rating</th>\n",
              "      <th>genre</th>\n",
              "      <th>release_date</th>\n",
              "      <th>runtime</th>\n",
              "      <th>director</th>\n",
              "      <th>url</th>\n",
              "    </tr>\n",
              "  </thead>\n",
              "  <tbody>\n",
              "    <tr>\n",
              "      <th>0</th>\n",
              "      <td>Mortal Kombat</td>\n",
              "      <td>79.0</td>\n",
              "      <td>Fantasy, Action, Adventure, Science Fiction, T...</td>\n",
              "      <td>04/23/2021</td>\n",
              "      <td>1h 50m</td>\n",
              "      <td>Lewis Tan</td>\n",
              "      <td>https://www.themoviedb.org/movie/460465</td>\n",
              "    </tr>\n",
              "    <tr>\n",
              "      <th>1</th>\n",
              "      <td>Godzilla vs. Kong</td>\n",
              "      <td>82.0</td>\n",
              "      <td>Science Fiction, Action</td>\n",
              "      <td>03/31/2021</td>\n",
              "      <td>1h 53m</td>\n",
              "      <td>Alexander Skarsgård</td>\n",
              "      <td>https://www.themoviedb.org/movie/399566</td>\n",
              "    </tr>\n",
              "    <tr>\n",
              "      <th>2</th>\n",
              "      <td>Nobody</td>\n",
              "      <td>85.0</td>\n",
              "      <td>Action, Thriller, Crime</td>\n",
              "      <td>03/26/2021</td>\n",
              "      <td>1h 32m</td>\n",
              "      <td>Bob Odenkirk</td>\n",
              "      <td>https://www.themoviedb.org/movie/615457</td>\n",
              "    </tr>\n",
              "    <tr>\n",
              "      <th>3</th>\n",
              "      <td>Zack Snyder's Justice League</td>\n",
              "      <td>85.0</td>\n",
              "      <td>Action, Adventure, Fantasy, Science Fiction</td>\n",
              "      <td>03/18/2021</td>\n",
              "      <td>4h 2m</td>\n",
              "      <td>Ben Affleck</td>\n",
              "      <td>https://www.themoviedb.org/movie/791373</td>\n",
              "    </tr>\n",
              "    <tr>\n",
              "      <th>4</th>\n",
              "      <td>The Unholy</td>\n",
              "      <td>57.0</td>\n",
              "      <td>Horror</td>\n",
              "      <td>04/02/2021</td>\n",
              "      <td>1h 39m</td>\n",
              "      <td>Jeffrey Dean Morgan</td>\n",
              "      <td>https://www.themoviedb.org/movie/632357</td>\n",
              "    </tr>\n",
              "  </tbody>\n",
              "</table>\n",
              "</div>"
            ],
            "text/plain": [
              "                           name rating  \\\n",
              "0                 Mortal Kombat   79.0   \n",
              "1             Godzilla vs. Kong   82.0   \n",
              "2                        Nobody   85.0   \n",
              "3  Zack Snyder's Justice League   85.0   \n",
              "4                    The Unholy   57.0   \n",
              "\n",
              "                                               genre release_date runtime  \\\n",
              "0  Fantasy, Action, Adventure, Science Fiction, T...   04/23/2021  1h 50m   \n",
              "1                            Science Fiction, Action   03/31/2021  1h 53m   \n",
              "2                            Action, Thriller, Crime   03/26/2021  1h 32m   \n",
              "3        Action, Adventure, Fantasy, Science Fiction   03/18/2021   4h 2m   \n",
              "4                                             Horror   04/02/2021  1h 39m   \n",
              "\n",
              "              director                                      url  \n",
              "0            Lewis Tan  https://www.themoviedb.org/movie/460465  \n",
              "1  Alexander Skarsgård  https://www.themoviedb.org/movie/399566  \n",
              "2         Bob Odenkirk  https://www.themoviedb.org/movie/615457  \n",
              "3          Ben Affleck  https://www.themoviedb.org/movie/791373  \n",
              "4  Jeffrey Dean Morgan  https://www.themoviedb.org/movie/632357  "
            ]
          },
          "execution_count": 29,
          "metadata": {},
          "output_type": "execute_result"
        }
      ],
      "source": [
        "# Invoke the scrape_movies functionality\n",
        "movies_df = scrape_movies()\n",
        "movies_df.head() # View the first few rows of the output"
      ]
    },
    {
      "cell_type": "code",
      "execution_count": null,
      "metadata": {
        "id": "R09UDyZ3b43F"
      },
      "outputs": [],
      "source": [
        "# Save the dataset to `.csv` format\n",
        "movies_df.to_csv('movies.csv', index=None)"
      ]
    },
    {
      "cell_type": "markdown",
      "metadata": {
        "id": "mFanShsZb43F"
      },
      "source": [
        "We can check that the CSV was created properly by reading the csv file using `pandas`."
      ]
    },
    {
      "cell_type": "code",
      "execution_count": null,
      "metadata": {
        "scrolled": true,
        "id": "0l76HQXMb43F",
        "outputId": "793296b3-7586-410c-fdbc-50cd91d69027"
      },
      "outputs": [
        {
          "data": {
            "text/html": [
              "<div>\n",
              "<style scoped>\n",
              "    .dataframe tbody tr th:only-of-type {\n",
              "        vertical-align: middle;\n",
              "    }\n",
              "\n",
              "    .dataframe tbody tr th {\n",
              "        vertical-align: top;\n",
              "    }\n",
              "\n",
              "    .dataframe thead th {\n",
              "        text-align: right;\n",
              "    }\n",
              "</style>\n",
              "<table border=\"1\" class=\"dataframe\">\n",
              "  <thead>\n",
              "    <tr style=\"text-align: right;\">\n",
              "      <th></th>\n",
              "      <th>name</th>\n",
              "      <th>rating</th>\n",
              "      <th>genre</th>\n",
              "      <th>release_date</th>\n",
              "      <th>runtime</th>\n",
              "      <th>director</th>\n",
              "      <th>url</th>\n",
              "    </tr>\n",
              "  </thead>\n",
              "  <tbody>\n",
              "    <tr>\n",
              "      <th>0</th>\n",
              "      <td>Mortal Kombat</td>\n",
              "      <td>79.0</td>\n",
              "      <td>Fantasy, Action, Adventure, Science Fiction, T...</td>\n",
              "      <td>04/23/2021</td>\n",
              "      <td>1h 50m</td>\n",
              "      <td>Lewis Tan</td>\n",
              "      <td>https://www.themoviedb.org/movie/460465</td>\n",
              "    </tr>\n",
              "    <tr>\n",
              "      <th>1</th>\n",
              "      <td>Godzilla vs. Kong</td>\n",
              "      <td>82.0</td>\n",
              "      <td>Science Fiction, Action</td>\n",
              "      <td>03/31/2021</td>\n",
              "      <td>1h 53m</td>\n",
              "      <td>Alexander Skarsgård</td>\n",
              "      <td>https://www.themoviedb.org/movie/399566</td>\n",
              "    </tr>\n",
              "    <tr>\n",
              "      <th>2</th>\n",
              "      <td>Nobody</td>\n",
              "      <td>85.0</td>\n",
              "      <td>Action, Thriller, Crime</td>\n",
              "      <td>03/26/2021</td>\n",
              "      <td>1h 32m</td>\n",
              "      <td>Bob Odenkirk</td>\n",
              "      <td>https://www.themoviedb.org/movie/615457</td>\n",
              "    </tr>\n",
              "    <tr>\n",
              "      <th>3</th>\n",
              "      <td>Zack Snyder's Justice League</td>\n",
              "      <td>85.0</td>\n",
              "      <td>Action, Adventure, Fantasy, Science Fiction</td>\n",
              "      <td>03/18/2021</td>\n",
              "      <td>4h 2m</td>\n",
              "      <td>Ben Affleck</td>\n",
              "      <td>https://www.themoviedb.org/movie/791373</td>\n",
              "    </tr>\n",
              "    <tr>\n",
              "      <th>4</th>\n",
              "      <td>The Unholy</td>\n",
              "      <td>57.0</td>\n",
              "      <td>Horror</td>\n",
              "      <td>04/02/2021</td>\n",
              "      <td>1h 39m</td>\n",
              "      <td>Jeffrey Dean Morgan</td>\n",
              "      <td>https://www.themoviedb.org/movie/632357</td>\n",
              "    </tr>\n",
              "  </tbody>\n",
              "</table>\n",
              "</div>"
            ],
            "text/plain": [
              "                           name  rating  \\\n",
              "0                 Mortal Kombat    79.0   \n",
              "1             Godzilla vs. Kong    82.0   \n",
              "2                        Nobody    85.0   \n",
              "3  Zack Snyder's Justice League    85.0   \n",
              "4                    The Unholy    57.0   \n",
              "\n",
              "                                               genre release_date runtime  \\\n",
              "0  Fantasy, Action, Adventure, Science Fiction, T...   04/23/2021  1h 50m   \n",
              "1                            Science Fiction, Action   03/31/2021  1h 53m   \n",
              "2                            Action, Thriller, Crime   03/26/2021  1h 32m   \n",
              "3        Action, Adventure, Fantasy, Science Fiction   03/18/2021   4h 2m   \n",
              "4                                             Horror   04/02/2021  1h 39m   \n",
              "\n",
              "              director                                      url  \n",
              "0            Lewis Tan  https://www.themoviedb.org/movie/460465  \n",
              "1  Alexander Skarsgård  https://www.themoviedb.org/movie/399566  \n",
              "2         Bob Odenkirk  https://www.themoviedb.org/movie/615457  \n",
              "3          Ben Affleck  https://www.themoviedb.org/movie/791373  \n",
              "4  Jeffrey Dean Morgan  https://www.themoviedb.org/movie/632357  "
            ]
          },
          "execution_count": 31,
          "metadata": {},
          "output_type": "execute_result"
        }
      ],
      "source": [
        "df = pd.read_csv('movies.csv')\n",
        "df.head()"
      ]
    },
    {
      "cell_type": "markdown",
      "metadata": {
        "id": "Z66NdGR_b43F"
      },
      "source": [
        "### Summary\n",
        "\n",
        "1. Downloaded the TMdb movie web page using `Requests`\n",
        "2. Extracted the movie details using BeautifulSoup (bs4).\n",
        "3. Extracted all the movie informations - movie name, user rating, release date, genre, duration, directors and urls.\n",
        "4. Complied the movie informations into Pandas lists and Dataframes.\n",
        "5. Extracted the movie informations for multiple pages.\n",
        "6. Saved the dataset into .`csv` format"
      ]
    },
    {
      "cell_type": "markdown",
      "metadata": {
        "id": "_EE_7z6Pb43F"
      },
      "source": [
        "### Future Work and References\n",
        "\n",
        "In near future, I plan to  \n",
        "* Perform web scraping using Selenium or Scrapy.\n",
        "* Perform Data Cleaning on the Data\n",
        "* Perform visualization on Data to get useful insights."
      ]
    },
    {
      "cell_type": "markdown",
      "metadata": {
        "id": "y1GsmDqVb43F"
      },
      "source": [
        "1. Let’s Build a Python Web Scraping Project from Scratch | Hands-On Tutorial by Aakash N S, CEO, Jovian: https://www.youtube.com/watch?v=RKsLLG-bzEY\n",
        "2. Beautiful Soup Documentation: https://www.crummy.com/software/BeautifulSoup/bs4/doc/\n",
        "3. https://www.freecodecamp.org/news/web-scraping-python-tutorial-how-to-scrape-data-from-a-website/\n",
        "4. https://towardsdatascience.com/web-scraping-yahoo-finance-477fe3daa852\n"
      ]
    },
    {
      "cell_type": "markdown",
      "metadata": {
        "id": "fsZxHc9Jb43F"
      },
      "source": [
        "Let's now save the notebook to jovian platform."
      ]
    },
    {
      "cell_type": "code",
      "execution_count": null,
      "metadata": {
        "id": "t6iqbTF1b43F"
      },
      "outputs": [],
      "source": [
        "!pip install jovian --upgrade --quiet"
      ]
    },
    {
      "cell_type": "code",
      "execution_count": null,
      "metadata": {
        "id": "U3kPvvSeb43F"
      },
      "outputs": [],
      "source": [
        "import jovian"
      ]
    },
    {
      "cell_type": "code",
      "execution_count": null,
      "metadata": {
        "id": "77_9fuepb43F",
        "outputId": "26c0c623-5ba4-4512-8a10-5d35071d55b6"
      },
      "outputs": [
        {
          "data": {
            "application/javascript": [
              "window.require && require([\"base/js/namespace\"],function(Jupyter){Jupyter.notebook.save_checkpoint()})"
            ],
            "text/plain": [
              "<IPython.core.display.Javascript object>"
            ]
          },
          "metadata": {},
          "output_type": "display_data"
        },
        {
          "name": "stdout",
          "output_type": "stream",
          "text": [
            "[jovian] Attempting to save notebook..\u001b[0m\n"
          ]
        }
      ],
      "source": [
        "# Execute this to save new versions of the notebook\n",
        "jovian.commit(files = ['movies.csv'], project=\"web-scraping-project\")"
      ]
    },
    {
      "cell_type": "code",
      "execution_count": null,
      "metadata": {
        "id": "EbelQk_Mb43F"
      },
      "outputs": [],
      "source": []
    }
  ],
  "metadata": {
    "language_info": {
      "codemirror_mode": {
        "name": "ipython",
        "version": 3
      },
      "file_extension": ".py",
      "mimetype": "text/x-python",
      "name": "python",
      "nbconvert_exporter": "python",
      "pygments_lexer": "ipython3",
      "version": "3.8.6"
    },
    "colab": {
      "provenance": []
    }
  },
  "nbformat": 4,
  "nbformat_minor": 0
}